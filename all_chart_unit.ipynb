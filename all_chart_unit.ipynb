{
 "cells": [
  {
   "cell_type": "code",
   "execution_count": 1,
   "metadata": {},
   "outputs": [
    {
     "name": "stdout",
     "output_type": "stream",
     "text": [
      "PPTX 파일이 저장된 위치: timeseries_plots_combined.pptx\n"
     ]
    }
   ],
   "source": [
    "import matplotlib.pyplot as plt\n",
    "import pandas as pd\n",
    "import numpy as np\n",
    "from io import BytesIO\n",
    "from pptx import Presentation\n",
    "from pptx.util import Inches\n",
    "\n",
    "# 데이터 프레임 생성\n",
    "np.random.seed(0)\n",
    "data = {\n",
    "    'cat1': np.random.choice(['ProductA', 'ProductB', 'ProductC', 'ProductD', 'ProductE', 'ProductF', 'ProductG'], 3000),\n",
    "    'cat2': np.random.choice(['Setting1', 'Setting2', 'Setting3', 'Setting4', 'Setting5', 'Setting6', 'Setting7', 'Setting8'], 3000),\n",
    "    'cat3': np.random.randint(1, 11, 3000),\n",
    "    'x': np.random.randint(1, 11, 3000),\n",
    "    'y': np.random.randint(1, 11, 3000),\n",
    "    'datetime': pd.date_range(start='2021-01-01', periods=3000, freq='D')\n",
    "}\n",
    "df = pd.DataFrame(data)\n",
    "vals = {f'val{val_num}': np.random.random(3000) for val_num in range(1, 70)}\n",
    "df = pd.concat([df, pd.DataFrame(vals)], axis=1)\n",
    "\n",
    "# 'cat1', 'cat2', 'cat3', 'x', 'y', 'datetime' 열을 제외한 리스트 구하기\n",
    "excluded_columns = ['cat1', 'cat2', 'cat3', 'x', 'y', 'datetime']\n",
    "timeseries_columns = [col for col in df.columns if col not in excluded_columns]\n",
    "\n",
    "# PPTX 프레젠테이션 생성\n",
    "prs = Presentation()\n",
    "\n",
    "# 각 25개 열에 대해 이미지 생성 및 PPTX에 삽입\n",
    "for i in range(0, len(timeseries_columns), 25):\n",
    "    current_columns = timeseries_columns[i:i+25]\n",
    "    fig, axs = plt.subplots(5, 5, figsize=(15, 15), dpi=100)  # 5x5 그리드 생성\n",
    "    \n",
    "    # 현재 그룹의 각 열에 대해 플롯 생성\n",
    "    for j, column in enumerate(current_columns):\n",
    "        ax = axs.flatten()[j]\n",
    "        ax.scatter(df.index, df[column], alpha=0.5)\n",
    "        ax.set_title(column, fontsize=12)\n",
    "\n",
    "    # 나머지 빈칸은 비워둠\n",
    "    for k in range(j + 1, 25):\n",
    "        axs.flatten()[k].axis('off')\n",
    "\n",
    "    plt.tight_layout()\n",
    "    buf = BytesIO()\n",
    "    plt.savefig(buf, format='png')\n",
    "    plt.close(fig)\n",
    "    buf.seek(0)\n",
    "\n",
    "    # 슬라이드 추가 및 이미지 삽입\n",
    "    slide_layout = prs.slide_layouts[6]  # 가장 기본적인 레이아웃\n",
    "    slide = prs.slides.add_slide(slide_layout)\n",
    "    slide.shapes.add_picture(buf, Inches(0), Inches(0), width=prs.slide_width, height=prs.slide_height)\n",
    "\n",
    "# PPTX 파일 저장\n",
    "pptx_file_path = \"timeseries_plots_combined.pptx\"\n",
    "prs.save(pptx_file_path)\n",
    "print(f\"PPTX 파일이 저장된 위치: {pptx_file_path}\")"
   ]
  },
  {
   "cell_type": "code",
   "execution_count": null,
   "metadata": {},
   "outputs": [],
   "source": []
  },
  {
   "cell_type": "code",
   "execution_count": null,
   "metadata": {},
   "outputs": [],
   "source": []
  },
  {
   "cell_type": "code",
   "execution_count": null,
   "metadata": {},
   "outputs": [],
   "source": []
  }
 ],
 "metadata": {
  "kernelspec": {
   "display_name": "Python 3",
   "language": "python",
   "name": "python3"
  },
  "language_info": {
   "codemirror_mode": {
    "name": "ipython",
    "version": 3
   },
   "file_extension": ".py",
   "mimetype": "text/x-python",
   "name": "python",
   "nbconvert_exporter": "python",
   "pygments_lexer": "ipython3",
   "version": "3.10.6"
  }
 },
 "nbformat": 4,
 "nbformat_minor": 2
}
