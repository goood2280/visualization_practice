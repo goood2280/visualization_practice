{
 "cells": [
  {
   "cell_type": "code",
   "execution_count": 2,
   "metadata": {},
   "outputs": [
    {
     "name": "stdout",
     "output_type": "stream",
     "text": [
      "HTML 파일이 저장된 위치: ./boxplots_and_stats.html\n"
     ]
    }
   ],
   "source": [
    "import pandas as pd\n",
    "import numpy as np\n",
    "import matplotlib.pyplot as plt\n",
    "import seaborn as sns\n",
    "from IPython.display import HTML\n",
    "from io import BytesIO\n",
    "import base64\n",
    "\n",
    "# 데이터 준비\n",
    "np.random.seed(0)\n",
    "data = {\n",
    "    'cat1': np.random.choice(['ProductA', 'ProductB', 'ProductC', 'ProductD', 'ProductE', 'ProductF', 'ProductG'], 3000),\n",
    "    'cat2': np.random.choice(['Setting1', 'Setting2', 'Setting3', 'Setting4', 'Setting5', 'Setting6', 'Setting7', 'Setting8'], 3000),\n",
    "    'cat3': np.random.randint(1, 11, 3000),\n",
    "    'x': np.random.randint(1, 11, 3000),\n",
    "    'y': np.random.randint(1, 11, 3000),\n",
    "    'datetime': pd.date_range(start='2021-01-01', periods=3000, freq='D'),\n",
    "    **{f'val{val_num}': np.random.random(3000) for val_num in range(1, 6)}\n",
    "}\n",
    "df = pd.DataFrame(data)\n",
    "filtered_df = df[df['cat1'] == 'ProductA']\n",
    "\n",
    "# 박스플롯 생성 및 인코딩\n",
    "def create_boxplot_base64(df, val_column):\n",
    "    plt.figure(figsize=(8, 4))  # 박스플롯 크기 조절\n",
    "    sns.boxplot(x='cat3', y=val_column, data=df)\n",
    "    plt.title(f'{val_column} by cat3')\n",
    "    buf = BytesIO()\n",
    "    plt.savefig(buf, format='png', bbox_inches='tight')\n",
    "    plt.close()\n",
    "    return base64.b64encode(buf.getvalue()).decode()\n",
    "\n",
    "# 통계치 계산 및 HTML 포맷팅\n",
    "def calculate_and_format_stats_html(df, val_columns):\n",
    "    html_str = \"<style>table {border-collapse: collapse; width: 80%;} th, td {border: 1px solid #ddd; text-align: left; padding: 8px;} th {background-color: #f2f2f2;}</style>\"\n",
    "    for val_column in val_columns:\n",
    "        stats_df = df.groupby('cat3')[val_column].describe().reset_index()\n",
    "        stats_df['<0.5 count'] = df[df[val_column] < 0.5].groupby('cat3')[val_column].count().values\n",
    "        stats_html = stats_df.to_html(index=False)\n",
    "        html_str += f\"<h3>{val_column} Statistics</h3>\" + stats_html\n",
    "    return html_str\n",
    "\n",
    "# 전체 HTML 컨텐츠 생성 및 파일 저장\n",
    "def create_full_html_content(df):\n",
    "    val_columns = [f'val{i}' for i in range(1, 6)]\n",
    "    full_html_content = \"\"\n",
    "    for val_column in val_columns:\n",
    "        boxplot_img_data = create_boxplot_base64(df, val_column)\n",
    "        full_html_content += f'<img src=\"data:image/png;base64,{boxplot_img_data}\" style=\"width:80%; display: block; margin-left: auto; margin-right: auto;\">'\n",
    "        stats_html = calculate_and_format_stats_html(df, [val_column])\n",
    "        full_html_content += stats_html\n",
    "    return full_html_content\n",
    "\n",
    "html_content = create_full_html_content(filtered_df)\n",
    "html_file_path = './boxplots_and_stats.html'\n",
    "with open(html_file_path, 'w') as file:\n",
    "    file.write(html_content)\n",
    "\n",
    "print(f\"HTML 파일이 저장된 위치: {html_file_path}\")"
   ]
  },
  {
   "cell_type": "code",
   "execution_count": null,
   "metadata": {},
   "outputs": [],
   "source": []
  },
  {
   "cell_type": "code",
   "execution_count": null,
   "metadata": {},
   "outputs": [],
   "source": []
  }
 ],
 "metadata": {
  "kernelspec": {
   "display_name": "Python 3",
   "language": "python",
   "name": "python3"
  },
  "language_info": {
   "codemirror_mode": {
    "name": "ipython",
    "version": 3
   },
   "file_extension": ".py",
   "mimetype": "text/x-python",
   "name": "python",
   "nbconvert_exporter": "python",
   "pygments_lexer": "ipython3",
   "version": "3.10.6"
  }
 },
 "nbformat": 4,
 "nbformat_minor": 2
}
